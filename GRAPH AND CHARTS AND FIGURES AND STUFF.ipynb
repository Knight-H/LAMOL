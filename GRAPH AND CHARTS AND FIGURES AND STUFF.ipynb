{
 "cells": [
  {
   "cell_type": "code",
   "execution_count": 22,
   "metadata": {},
   "outputs": [],
   "source": [
    "import numpy as np\n",
    "from matplotlib import pyplot as plt\n",
    "import matplotlib.patches as mpatches"
   ]
  },
  {
   "cell_type": "code",
   "execution_count": null,
   "metadata": {},
   "outputs": [],
   "source": []
  },
  {
   "cell_type": "code",
   "execution_count": 2,
   "metadata": {},
   "outputs": [],
   "source": [
    "training_time = [2.44, 10.55, 4.39, 4.39]\n",
    "freeze_time = [0, 0, 1.44, 1.44]\n",
    "gen_time = [0, 0, 0, 0.24]"
   ]
  },
  {
   "cell_type": "code",
   "execution_count": 5,
   "metadata": {},
   "outputs": [],
   "source": [
    "ind = np.arange(4)\n",
    "width = 0.35"
   ]
  },
  {
   "cell_type": "code",
   "execution_count": 12,
   "metadata": {},
   "outputs": [
    {
     "data": {
      "text/plain": [
       "array([ 2.44, 10.55,  5.83,  5.83])"
      ]
     },
     "execution_count": 12,
     "metadata": {},
     "output_type": "execute_result"
    }
   ],
   "source": [
    "np.array(training_time)+np.array(freeze_time)"
   ]
  },
  {
   "cell_type": "code",
   "execution_count": 27,
   "metadata": {},
   "outputs": [
    {
     "data": {
      "text/plain": [
       "Text(0, 0.5, 'Hours')"
      ]
     },
     "execution_count": 27,
     "metadata": {},
     "output_type": "execute_result"
    },
    {
     "data": {
      "image/png": "[encoded data removed]",
      "text/plain": [
       "<Figure size 432x288 with 1 Axes>"
      ]
     },
     "metadata": {
      "needs_background": "light"
     },
     "output_type": "display_data"
    }
   ],
   "source": [
    "p1 = plt.bar(ind, training_time, width)\n",
    "p2 = plt.bar(ind, freeze_time, width,\n",
    "             bottom=training_time)\n",
    "p3 = plt.bar(ind, gen_time, width,\n",
    "             bottom=np.array(training_time)+np.array(freeze_time))\n",
    "\n",
    "blue_patch = mpatches.Patch(color='blue', label='Training')\n",
    "orange_patch = mpatches.Patch(color='orange', label='CCI')\n",
    "green_patch = mpatches.Patch(color='green', label='InvRat')\n",
    "\n",
    "plt.legend(handles=[blue_patch,orange_patch,green_patch])\n",
    "plt.yticks(np.arange(0, 15,2))\n",
    "plt.xticks(ind, ('Baseline', 'Brute Force', 'R-LAMOL', 'R-LAMOL (g)', ))\n",
    "plt.ylabel('Hours')"
   ]
  },
  {
   "cell_type": "code",
   "execution_count": null,
   "metadata": {},
   "outputs": [],
   "source": []
  }
 ],
 "metadata": {
  "kernelspec": {
   "display_name": "Python 3",
   "language": "python",
   "name": "python3"
  },
  "language_info": {
   "codemirror_mode": {
    "name": "ipython",
    "version": 3
   },
   "file_extension": ".py",
   "mimetype": "text/x-python",
   "name": "python",
   "nbconvert_exporter": "python",
   "pygments_lexer": "ipython3",
   "version": "3.7.4"
  }
 },
 "nbformat": 4,
 "nbformat_minor": 4
}
